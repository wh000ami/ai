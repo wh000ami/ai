{
 "cells": [
  {
   "cell_type": "markdown",
   "id": "40ed687d-864c-451f-885e-93b57760a01f",
   "metadata": {},
   "source": [
    "# AI - Работа с аудио"
   ]
  },
  {
   "cell_type": "markdown",
   "id": "a83660c2-d879-437d-a5fc-feff5a8a6322",
   "metadata": {},
   "source": [
    "## Text-to-Speech (TTS)"
   ]
  },
  {
   "cell_type": "markdown",
   "id": "109734da-9880-474e-8846-31063f4d34ce",
   "metadata": {},
   "source": [
    "Модель TTS - это программный алгоритм или нейронная сеть, обученная преобразовывать текст в речь с натуральным звучанием. Эти модели могут использоваться для создания аудиоконтента, а также для доступности и взаимодействия с устройствами и системами, использующими голосовые команды."
   ]
  },
  {
   "cell_type": "code",
   "execution_count": 16,
   "id": "d9d76fde-b2ab-4159-9721-241459fed628",
   "metadata": {},
   "outputs": [],
   "source": [
    "import torch\n",
    "import sounddevice as sd\n",
    "import time"
   ]
  },
  {
   "cell_type": "code",
   "execution_count": 17,
   "id": "90af13b1-7826-49d3-a6d5-6c5931a8a646",
   "metadata": {},
   "outputs": [
    {
     "name": "stdin",
     "output_type": "stream",
     "text": [
      "Ведите текст для сентеза в речь:  Привет, я Байя и я звучу вот таким вот голосом! :)\n"
     ]
    }
   ],
   "source": [
    "language = \"ru\"\n",
    "model_id = \"ru_v3\"\n",
    "sample_rate = 48000\n",
    "speaker = \"baya\" # aidar, baya, kseniya, xenia, random\n",
    "put_accent = True\n",
    "put_yoo = True\n",
    "device = torch.device(\"cpu\")\n",
    "text = input(\"Ведите текст для сентеза в речь: \")"
   ]
  },
  {
   "cell_type": "code",
   "execution_count": 18,
   "id": "33031c53-f6ad-4377-bd1b-dbc12616b5aa",
   "metadata": {},
   "outputs": [
    {
     "name": "stderr",
     "output_type": "stream",
     "text": [
      "Using cache found in /Users/danil/.cache/torch/hub/snakers4_silero-models_master\n"
     ]
    }
   ],
   "source": [
    "# загружаем модель для синтеза речи из репозитория \"snakers4/silero-models\" с указанными параметрами (язык, диктор).\n",
    "model, _ = torch.hub.load(\n",
    "    repo_or_dir=\"snakers4/silero-models\",\n",
    "    model=\"silero_tts\",\n",
    "    language=language,\n",
    "    speaker=model_id\n",
    ")\n",
    "model.to(device)"
   ]
  },
  {
   "cell_type": "code",
   "execution_count": 19,
   "id": "972e886f-301b-4ba9-a0ed-5cf6974a32cc",
   "metadata": {},
   "outputs": [],
   "source": [
    "# применяем модель TTS для синтеза аудио из введенного текста с учетом выбранных параметров\n",
    "audio = model.apply_tts(\n",
    "    text=text,\n",
    "    speaker=speaker,\n",
    "    sample_rate=sample_rate,\n",
    "    put_accent=put_accent,\n",
    ")"
   ]
  },
  {
   "cell_type": "code",
   "execution_count": 20,
   "id": "020e3277-5a5f-423c-9b42-efbae0df7c6e",
   "metadata": {},
   "outputs": [
    {
     "name": "stdout",
     "output_type": "stream",
     "text": [
      "Сейчас произносится:  Привет, я Байя и я звучу вот таким вот голосом! :)\n"
     ]
    }
   ],
   "source": [
    "print(\"Сейчас произносится: \", text)\n",
    "\n",
    "sd.play(audio, sample_rate)\n",
    "time.sleep(len(audio) / sample_rate)\n",
    "sd.stop()"
   ]
  },
  {
   "cell_type": "code",
   "execution_count": null,
   "id": "a50b9be5-ccd0-4e00-8463-6e1df6ef24c2",
   "metadata": {},
   "outputs": [],
   "source": []
  }
 ],
 "metadata": {
  "kernelspec": {
   "display_name": "venv",
   "language": "python",
   "name": "venv"
  },
  "language_info": {
   "codemirror_mode": {
    "name": "ipython",
    "version": 3
   },
   "file_extension": ".py",
   "mimetype": "text/x-python",
   "name": "python",
   "nbconvert_exporter": "python",
   "pygments_lexer": "ipython3",
   "version": "3.10.13"
  }
 },
 "nbformat": 4,
 "nbformat_minor": 5
}
