{
 "cells": [
  {
   "cell_type": "markdown",
   "id": "2711e498-9a7f-4a00-8ec8-3786e72cffed",
   "metadata": {},
   "source": [
    "# AI - Работа с изображением"
   ]
  },
  {
   "cell_type": "markdown",
   "id": "d9cf5ab3-23e7-4f5b-88d3-5ffc321ab1bb",
   "metadata": {},
   "source": [
    "## Object Detection"
   ]
  },
  {
   "cell_type": "markdown",
   "id": "ecc282a6-d89d-49a3-8fe7-4f43e533a2c9",
   "metadata": {},
   "source": [
    "Oбнаружение объектов на изображении"
   ]
  },
  {
   "cell_type": "code",
   "execution_count": 1,
   "id": "ede759f5-45be-48c9-889b-78c6288130c2",
   "metadata": {
    "scrolled": true
   },
   "outputs": [],
   "source": [
    "import os\n",
    "\n",
    "from imageai.Detection import ObjectDetection"
   ]
  },
  {
   "cell_type": "code",
   "execution_count": 2,
   "id": "9a135925-1775-4112-b325-8327e6b72058",
   "metadata": {},
   "outputs": [],
   "source": [
    "model_path=\"../models/tiny-yolov3.pt\"\n",
    "image_path_input = \"../static/image_ai_test.jpeg\"\n",
    "image_path_output = \"../static/RESULT-image_ai_test.jpeg\""
   ]
  },
  {
   "cell_type": "code",
   "execution_count": 3,
   "id": "0a94ae6e-16a1-4a54-9e78-98019e19c3ee",
   "metadata": {},
   "outputs": [],
   "source": [
    "execution_path = os.getcwd()\n",
    "\n",
    "detector = ObjectDetection()\n",
    "detector.setModelTypeAsTinyYOLOv3()\n",
    "detector.setModelPath( os.path.join(execution_path, model_path))\n",
    "detector.loadModel()\n",
    "detections = detector.detectObjectsFromImage(\n",
    "    input_image=os.path.join(execution_path, image_path_input),\n",
    "    output_image_path=os.path.join(execution_path, image_path_output),\n",
    "    minimum_percentage_probability=30,\n",
    ")"
   ]
  },
  {
   "cell_type": "code",
   "execution_count": 4,
   "id": "9993c93c-73bf-4a5a-b146-763af5c440f3",
   "metadata": {},
   "outputs": [
    {
     "name": "stdout",
     "output_type": "stream",
     "text": [
      "title:  car \n",
      "probability:  99.8 \n",
      "box points:  [228, 650, 2494, 1479]\n",
      "--------------------------------\n"
     ]
    }
   ],
   "source": [
    "for eachObject in detections:\n",
    "    print(\"title: \", eachObject[\"name\"] , \"\\nprobability: \", eachObject[\"percentage_probability\"], \"\\nbox points: \", eachObject[\"box_points\"] )\n",
    "    print(\"--------------------------------\")"
   ]
  },
  {
   "cell_type": "code",
   "execution_count": null,
   "id": "4851eab5-b278-4714-ac9e-5cdca8abd5f7",
   "metadata": {},
   "outputs": [],
   "source": []
  }
 ],
 "metadata": {
  "kernelspec": {
   "display_name": "venv",
   "language": "python",
   "name": "venv"
  },
  "language_info": {
   "codemirror_mode": {
    "name": "ipython",
    "version": 3
   },
   "file_extension": ".py",
   "mimetype": "text/x-python",
   "name": "python",
   "nbconvert_exporter": "python",
   "pygments_lexer": "ipython3",
   "version": "3.10.13"
  }
 },
 "nbformat": 4,
 "nbformat_minor": 5
}
