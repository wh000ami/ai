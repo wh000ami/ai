{
 "cells": [
  {
   "cell_type": "markdown",
   "id": "036b59b8-e615-4aeb-9f79-8fc1c6810082",
   "metadata": {},
   "source": [
    "# AI - Работа с видео"
   ]
  },
  {
   "cell_type": "markdown",
   "id": "6c05cc9b-1718-4f5a-9747-2c198b17a7a1",
   "metadata": {},
   "source": [
    "## Video Object Detection"
   ]
  },
  {
   "cell_type": "markdown",
   "id": "8f0175bf-cfa5-4c7b-9198-ff77f92d2603",
   "metadata": {},
   "source": [
    "Автоматическоe обнаружениe и отслеживаниe объектов на видеозаписях.\\\n",
    "Технология позволяет идентифицировать и следить за различными объектами или персонами на видео."
   ]
  },
  {
   "cell_type": "code",
   "execution_count": 1,
   "id": "a3289853-f7ba-4a09-ac4f-5a698f172f3c",
   "metadata": {},
   "outputs": [],
   "source": [
    "import os\n",
    "\n",
    "from imageai.Detection import VideoObjectDetection"
   ]
  },
  {
   "cell_type": "code",
   "execution_count": 2,
   "id": "d4b6f101-fc0c-4afa-a500-6e96b226b907",
   "metadata": {},
   "outputs": [],
   "source": [
    "model_path = \"../models/tiny-yolov3.pt\"\n",
    "video_path_input = \"../static/video_ai_test.mp4\"\n",
    "video_path_output = \"../static/RESULT-video_ai_test\""
   ]
  },
  {
   "cell_type": "code",
   "execution_count": 3,
   "id": "3c2f8396-8150-43e0-87ae-a214e0dbe4d2",
   "metadata": {},
   "outputs": [],
   "source": [
    "execution_path = os.getcwd()\n",
    "\n",
    "detector = VideoObjectDetection()\n",
    "detector.setModelTypeAsTinyYOLOv3()\n",
    "detector.setModelPath( os.path.join(execution_path, model_path))\n",
    "detector.loadModel()"
   ]
  },
  {
   "cell_type": "code",
   "execution_count": 4,
   "id": "7e0e25b3-8536-4c25-8e23-885badafd781",
   "metadata": {
    "scrolled": true
   },
   "outputs": [
    {
     "name": "stdout",
     "output_type": "stream",
     "text": [
      "Идет обработка видео...\n"
     ]
    },
    {
     "name": "stderr",
     "output_type": "stream",
     "text": [
      "OpenCV: FFMPEG: tag 0x5634504d/'MP4V' is not supported with codec id 12 and format 'mp4 / MP4 (MPEG-4 Part 14)'\n",
      "OpenCV: FFMPEG: fallback to use tag 0x7634706d/'mp4v'\n"
     ]
    },
    {
     "name": "stdout",
     "output_type": "stream",
     "text": [
      "Видео готово: /Users/danil/Desktop/ai-lesson/src/../static/RESULT-video_ai_test.mp4\n"
     ]
    }
   ],
   "source": [
    "print(\"Идет обработка видео...\")\n",
    "video_path = detector.detectObjectsFromVideo(\n",
    "    input_file_path=os.path.join(execution_path, video_path_input),\n",
    "    output_file_path=os.path.join(execution_path, video_path_output),\n",
    "    return_detected_frame=True,\n",
    ")\n",
    "\n",
    "print(\"Видео готово:\", video_path)"
   ]
  },
  {
   "cell_type": "code",
   "execution_count": null,
   "id": "605ab7fa-ba21-4060-a5c4-a52f30108d9a",
   "metadata": {},
   "outputs": [],
   "source": []
  }
 ],
 "metadata": {
  "kernelspec": {
   "display_name": "venv",
   "language": "python",
   "name": "venv"
  },
  "language_info": {
   "codemirror_mode": {
    "name": "ipython",
    "version": 3
   },
   "file_extension": ".py",
   "mimetype": "text/x-python",
   "name": "python",
   "nbconvert_exporter": "python",
   "pygments_lexer": "ipython3",
   "version": "3.10.13"
  }
 },
 "nbformat": 4,
 "nbformat_minor": 5
}
